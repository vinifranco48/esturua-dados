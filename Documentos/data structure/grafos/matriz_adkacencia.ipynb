{
 "cells": [
  {
   "cell_type": "code",
   "execution_count": 14,
   "metadata": {},
   "outputs": [],
   "source": [
    "class grafos:\n",
    "    def __init__(self, vertices):\n",
    "        self.vertices = vertices\n",
    "        self.matriz = [[0]*vertices for i in range(vertices)]\n",
    "\n",
    "    def criar_aresta(self, u, v):\n",
    "        self.matriz[u-1][v-1] = 1\n",
    "\n",
    "    def imprimir(self):\n",
    "        for i in range(self.vertices):\n",
    "            print(self.matriz[i])"
   ]
  },
  {
   "cell_type": "code",
   "execution_count": 15,
   "metadata": {},
   "outputs": [],
   "source": [
    "from collections import deque\n",
    "\n",
    "\n",
    "class grafos_lista:\n",
    "    def __init__(self, vertices):\n",
    "        self.vertices = vertices\n",
    "        self.lista = [ [] for _ in range(vertices)]\n",
    "\n",
    "    def criar_aresta(self, u, v):\n",
    "        self.lista[u].append(v)\n",
    "\n",
    "    def imprimir(self):\n",
    "        for i in range(self.vertices):\n",
    "            print(f\"{i}: {self.lista[i]}\")\n",
    "    \n",
    "    def bfs(self, inicio):\n",
    "        visitados = [False] * self.vertices\n",
    "        fila = deque([inicio])\n",
    "        visitados[inicio] = True\n",
    "\n",
    "        resultado = []\n",
    "\n",
    "        while fila:\n",
    "            atual = fila.popleft()\n",
    "            resultado.append(atual)\n",
    "\n",
    "            for vizinho in self.lista[atual]:\n",
    "                if not visitados[vizinho]:\n",
    "                    fila.append(vizinho)\n",
    "                    visitados[vizinho] = True\n",
    "\n",
    "        return resultado\n"
   ]
  },
  {
   "cell_type": "code",
   "execution_count": 21,
   "metadata": {},
   "outputs": [
    {
     "name": "stdout",
     "output_type": "stream",
     "text": [
      "Lista de adjacência:\n",
      "0: [1, 2]\n",
      "1: [3, 4]\n",
      "2: []\n",
      "3: []\n",
      "4: []\n",
      "\n",
      "BFS a partir do nó 0:\n",
      "Ordem de visita: [1, 3, 4]\n"
     ]
    }
   ],
   "source": [
    "# Criando o grafo\n",
    "grafo = grafos_lista(5)  # 5 vértices numerados de 0 a 4\n",
    "grafo.criar_aresta(0, 1)\n",
    "grafo.criar_aresta(0, 2)\n",
    "grafo.criar_aresta(1, 3)\n",
    "grafo.criar_aresta(1, 4)\n",
    "\n",
    "# Imprimindo a lista de adjacência\n",
    "print(\"Lista de adjacência:\")\n",
    "grafo.imprimir()\n",
    "\n",
    "# Executando a BFS\n",
    "print(\"\\nBFS a partir do nó 0:\")\n",
    "resultado = grafo.bfs(1)\n",
    "print(\"Ordem de visita:\", resultado)\n",
    "\n"
   ]
  },
  {
   "cell_type": "code",
   "execution_count": 20,
   "metadata": {},
   "outputs": [
    {
     "ename": "IndexError",
     "evalue": "list index out of range",
     "output_type": "error",
     "traceback": [
      "\u001b[0;31m---------------------------------------------------------------------------\u001b[0m",
      "\u001b[0;31mIndexError\u001b[0m                                Traceback (most recent call last)",
      "Cell \u001b[0;32mIn[20], line 1\u001b[0m\n\u001b[0;32m----> 1\u001b[0m resultado \u001b[38;5;241m=\u001b[39m g\u001b[38;5;241m.\u001b[39mbfs(\u001b[38;5;241m0\u001b[39m)\n\u001b[1;32m      2\u001b[0m \u001b[38;5;28mprint\u001b[39m(resultado)\n",
      "Cell \u001b[0;32mIn[15], line 28\u001b[0m, in \u001b[0;36mgrafos_lista.bfs\u001b[0;34m(self, inicio)\u001b[0m\n\u001b[1;32m     25\u001b[0m resultado\u001b[38;5;241m.\u001b[39mappend(atual)\n\u001b[1;32m     27\u001b[0m \u001b[38;5;28;01mfor\u001b[39;00m vizinho \u001b[38;5;129;01min\u001b[39;00m \u001b[38;5;28mself\u001b[39m\u001b[38;5;241m.\u001b[39mlista[atual]:\n\u001b[0;32m---> 28\u001b[0m     \u001b[38;5;28;01mif\u001b[39;00m \u001b[38;5;129;01mnot\u001b[39;00m visitados[vizinho]:\n\u001b[1;32m     29\u001b[0m         fila\u001b[38;5;241m.\u001b[39mappend(vizinho)\n\u001b[1;32m     30\u001b[0m         visitados[vizinho] \u001b[38;5;241m=\u001b[39m \u001b[38;5;28;01mTrue\u001b[39;00m\n",
      "\u001b[0;31mIndexError\u001b[0m: list index out of range"
     ]
    }
   ],
   "source": [
    "resultado = g.bfs(0)\n",
    "print(resultado)"
   ]
  }
 ],
 "metadata": {
  "kernelspec": {
   "display_name": "Python 3",
   "language": "python",
   "name": "python3"
  },
  "language_info": {
   "codemirror_mode": {
    "name": "ipython",
    "version": 3
   },
   "file_extension": ".py",
   "mimetype": "text/x-python",
   "name": "python",
   "nbconvert_exporter": "python",
   "pygments_lexer": "ipython3",
   "version": "3.11.5"
  }
 },
 "nbformat": 4,
 "nbformat_minor": 2
}
